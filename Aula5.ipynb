{
 "cells": [
  {
   "cell_type": "code",
   "execution_count": 16,
   "metadata": {},
   "outputs": [
    {
     "name": "stdout",
     "output_type": "stream",
     "text": [
      "A frase contém 0 letras A.\n"
     ]
    }
   ],
   "source": [
    "### Crie um programa que conte quantas vezes a letra 'a' aparece em\n",
    "### uma frase inserida pelo usuário. (FOR e IF)\n",
    "\n",
    "frase = input('Digite algo aqui: ')\n",
    "frase = frase.lower() ### converter todas as letras em minuscula\n",
    "\n",
    "\n",
    "contador = 0\n",
    "\n",
    "\n",
    "for letra in frase:\n",
    "\n",
    "    if letra == 'a':\n",
    "        contador = contador + 1\n",
    "\n",
    "print(f'A frase contém {contador} letras A.')"
   ]
  },
  {
   "cell_type": "code",
   "execution_count": 20,
   "metadata": {},
   "outputs": [
    {
     "name": "stdout",
     "output_type": "stream",
     "text": [
      " Neste conjuto de numeros, contem 1 e numeros impars e 9 numeros pares \n"
     ]
    }
   ],
   "source": [
    "### Exercício 14 - Faça um programa que peça 10 números inteiros, calcule e mostre a\n",
    "### quantidade de números pares e a quantidade de números ímpares.\n",
    "\n",
    "numeros = [] ###lista vazia resposavel por armazenar os valores inseridos\n",
    "\n",
    "### variavel de controle  e repetição \n",
    "\n",
    "i = 1 \n",
    "\n",
    "while i <= 10:\n",
    "    numero =int(input(\"Digite um numero inteiro \"))\n",
    "    ### adicionado a lista \n",
    "\n",
    "    numeros.append(numero)\n",
    "\n",
    "    i = i + 1\n",
    "\n",
    "## variaveis contadoras\n",
    "impar = 0\n",
    "par = 0\n",
    "\n",
    "for num in numeros:\n",
    "    if num % 2 != 0:\n",
    "        ##impar\n",
    "        impar += 1\n",
    "    else:\n",
    "        par += 1\n",
    "\n",
    "print(f' Neste conjuto de numeros, contem {impar} e numeros impars e {par} numeros pares ')\n",
    "        \n",
    "\n",
    "    \n"
   ]
  },
  {
   "cell_type": "code",
   "execution_count": null,
   "metadata": {},
   "outputs": [
    {
     "name": "stdout",
     "output_type": "stream",
     "text": [
      "[1, 2, 3, 4, 5, 6, 7, 8, 9, 10]\n"
     ]
    }
   ],
   "source": [
    "3"
   ]
  },
  {
   "cell_type": "code",
   "execution_count": 30,
   "metadata": {},
   "outputs": [
    {
     "name": "stdout",
     "output_type": "stream",
     "text": [
      " A lista contem os seguintes numeros [200.0, 300.0, 500.0, 400.0, 300.0]\n",
      " Contem a quantidade dos 5 Numeros\n",
      " A soma dos valores são 1700.0 \n",
      " A media dos valores são 340.0\n"
     ]
    }
   ],
   "source": [
    "## Exercício 08 - Faça um programa que leia 5 números e informe a soma e a média dos números.\n",
    "\n",
    "lista_numeros = [] ### criando lista vazia para armazenar os valores \n",
    "i = 0  ### variavel de controle de repetição\n",
    "  \n",
    "  ### montando a estrutura de repetição para colocar os valores \n",
    "while i - 5:\n",
    "    numero =float(input(\"Digite os numeros \"))\n",
    "    ### adicionado a lista \n",
    "\n",
    "    lista_numeros.append(numero) ###  inserindo os numeros na lista criada\n",
    "\n",
    "    i = i + 1\n",
    "print(f\" A lista contem os seguintes numeros {lista_numeros}\")\n",
    "print(f' Contem a quantidade dos {i} Numeros')\n",
    "\n",
    "## declarar variavel para armazenar a soma dos valores \n",
    "\n",
    "soma = 0 \n",
    "\n",
    "for(x) in lista_numeros:\n",
    "    ### somar a variavel SOMA com o valor da variavel x\n",
    "\n",
    "    soma = soma + x\n",
    "\n",
    "    media = soma / i\n",
    "\n",
    "print(f' A soma dos valores são {soma} ')\n",
    "print(f' A media dos valores são {media}')\n",
    "\n",
    "\n",
    "    "
   ]
  },
  {
   "cell_type": "code",
   "execution_count": 49,
   "metadata": {},
   "outputs": [
    {
     "name": "stdout",
     "output_type": "stream",
     "text": [
      " *********** Digite o valor para o fatorial *********** \n"
     ]
    },
    {
     "name": "stdout",
     "output_type": "stream",
     "text": [
      "40320\n"
     ]
    }
   ],
   "source": [
    "### Exercício 17 - Faça um programa que calcule o fatorial de um número inteiro fornecido\n",
    "### pelo usuário. Ex.: 5!=5.4.3.2.1=120\n",
    "\n",
    "print(\" *********** Digite o valor para o fatorial *********** \")\n",
    "i = int(input(\"Digite o numero para calcular o fatorial \"))\n",
    "fatorial = i\n",
    "\n",
    "while i >= 1:\n",
    "    i = i - 1\n",
    "\n",
    "    if i != 0:\n",
    "        fatorial = fatorial * i\n",
    "       \n",
    "\n",
    "print(fatorial)\n"
   ]
  },
  {
   "cell_type": "code",
   "execution_count": null,
   "metadata": {},
   "outputs": [],
   "source": []
  }
 ],
 "metadata": {
  "kernelspec": {
   "display_name": "Python 3",
   "language": "python",
   "name": "python3"
  },
  "language_info": {
   "codemirror_mode": {
    "name": "ipython",
    "version": 3
   },
   "file_extension": ".py",
   "mimetype": "text/x-python",
   "name": "python",
   "nbconvert_exporter": "python",
   "pygments_lexer": "ipython3",
   "version": "3.11.0"
  },
  "orig_nbformat": 4
 },
 "nbformat": 4,
 "nbformat_minor": 2
}
